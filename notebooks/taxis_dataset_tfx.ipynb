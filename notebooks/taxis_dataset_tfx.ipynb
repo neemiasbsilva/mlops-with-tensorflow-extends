{
  "nbformat": 4,
  "nbformat_minor": 0,
  "metadata": {
    "colab": {
      "name": "taxis-dataset-tfx.ipynb",
      "provenance": [],
      "machine_shape": "hm",
      "authorship_tag": "ABX9TyPQIKDY3KGPcZWMiED4LNi5"
    },
    "kernelspec": {
      "name": "python3",
      "display_name": "Python 3"
    },
    "language_info": {
      "name": "python"
    },
    "accelerator": "GPU"
  },
  "cells": [
    {
      "cell_type": "markdown",
      "metadata": {
        "id": "gizCPd8eKuzb"
      },
      "source": [
        "## Corresponding TFX Libraries"
      ]
    },
    {
      "cell_type": "markdown",
      "metadata": {
        "id": "ZqYc1xzYNbfl"
      },
      "source": [
        "## Instal Some Dependencies & Import Librarys "
      ]
    },
    {
      "cell_type": "code",
      "metadata": {
        "id": "zogKJawgJnQB"
      },
      "source": [
        "!pip install -q -U \\\n",
        "  tensorflow==2.4.1 \\\n",
        "  tfx==0.28.0"
      ],
      "execution_count": 1,
      "outputs": []
    },
    {
      "cell_type": "code",
      "metadata": {
        "id": "EPHrWg64Nqed"
      },
      "source": [
        "import os\n",
        "import pprint\n",
        "import numpy as np\n",
        "import tempfile\n",
        "import urllib\n",
        "\n",
        "import absl\n",
        "import pandas as pd\n",
        "import tensorflow as tf\n",
        "import tensorflow_model_analysis as tfma\n",
        "tf.get_logger().propagate=False\n",
        "pp = pprint.PrettyPrinter()\n",
        "\n",
        "import tfx\n",
        "from tfx.components import CsvExampleGen\n",
        "from typing import Dict, List, Text\n",
        "from tfx.components import Evaluator\n",
        "from tfx.components import ExampleValidator\n",
        "from tfx.components import Pusher\n",
        "from tfx.components import ResolverNode\n",
        "from tfx.components import SchemaGen\n",
        "from tfx.components import StatisticsGen\n",
        "from tfx.components import Trainer\n",
        "from tfx.components import Transform\n",
        "from tfx.components.base import executor_spec\n",
        "from tfx.components.trainer.executor import GenericExecutor\n",
        "from tfx.dsl.experimental import latest_blessed_model_resolver\n",
        "from tfx.orchestration import metadata\n",
        "from tfx.orchestration import pipeline\n",
        "from tfx.orchestration.experimental.interactive.interactive_context import InteractiveContext\n",
        "from tfx.proto import pusher_pb2\n",
        "from tfx.proto import trainer_pb2\n",
        "from tfx.types import Channel\n",
        "from tfx.types.standard_artifacts import Model\n",
        "from tfx.types.standard_artifacts import ModelBlessing\n",
        "from tfx.utils.dsl_utils import external_input\n",
        "\n",
        "\n",
        "%load_ext tfx.orchestration.experimental.interactive.notebook_extensions.skip"
      ],
      "execution_count": 3,
      "outputs": []
    },
    {
      "cell_type": "code",
      "metadata": {
        "id": "Zs5TD8bAIlAv"
      },
      "source": [
        "def ensure_dir(directory: str):\n",
        "    if (len(directory) > 0 and not os.path.exists(directory)):\n",
        "        os.makedirs(directory)"
      ],
      "execution_count": 6,
      "outputs": []
    },
    {
      "cell_type": "code",
      "metadata": {
        "id": "ZRc4HwSSOq5x"
      },
      "source": [
        "tfx_path = \"/content/tfx\"\n",
        "ensure_dir(tfx_path)\n",
        "pipeline_path = os.path.join(tfx_path, \"pipelines\")\n",
        "ensure_dir(pipeline_path)\n",
        "metadata_path = os.path.join(tfx_path, \"metadata\")\n",
        "ensure_dir(metadata_path)\n",
        "logs_path = os.path.join(tfx_path, \"logs\")\n",
        "ensure_dir(logs_path)\n",
        "data_path = os.path.join(tfx_path, \"data\")\n",
        "ensure_dir(data_path)\n",
        "serving_model_path = os.path.join(tfx_path, \"serving_model\")\n",
        "ensure_dir(serving_model_path)"
      ],
      "execution_count": 7,
      "outputs": []
    },
    {
      "cell_type": "code",
      "metadata": {
        "id": "RTS5Y4_rTBh3"
      },
      "source": [
        ""
      ],
      "execution_count": null,
      "outputs": []
    }
  ]
}