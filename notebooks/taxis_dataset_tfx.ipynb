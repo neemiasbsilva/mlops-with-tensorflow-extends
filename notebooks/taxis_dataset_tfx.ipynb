{
  "nbformat": 4,
  "nbformat_minor": 0,
  "metadata": {
    "colab": {
      "name": "taxis-dataset-tfx.ipynb",
      "provenance": [],
      "machine_shape": "hm",
      "authorship_tag": "ABX9TyOq9Sw9VCowe8hD7RRWQVas",
      "include_colab_link": true
    },
    "kernelspec": {
      "name": "python3",
      "display_name": "Python 3"
    },
    "language_info": {
      "name": "python"
    },
    "accelerator": "GPU"
  },
  "cells": [
    {
      "cell_type": "markdown",
      "metadata": {
        "id": "view-in-github",
        "colab_type": "text"
      },
      "source": [
        "<a href=\"https://colab.research.google.com/github/neemiasbsilva/mlops-with-tensorflow-extends/blob/main/notebooks/taxis_dataset_tfx.ipynb\" target=\"_parent\"><img src=\"https://colab.research.google.com/assets/colab-badge.svg\" alt=\"Open In Colab\"/></a>"
      ]
    },
    {
      "cell_type": "markdown",
      "metadata": {
        "id": "gizCPd8eKuzb"
      },
      "source": [
        "## Corresponding TFX Libraries"
      ]
    },
    {
      "cell_type": "markdown",
      "metadata": {
        "id": "ZqYc1xzYNbfl"
      },
      "source": [
        "## Instal Some Dependencies & Import Librarys "
      ]
    },
    {
      "cell_type": "code",
      "metadata": {
        "id": "zogKJawgJnQB"
      },
      "source": [
        "!pip install -q -U \\\n",
        "  tensorflow==2.4.1 \\\n",
        "  tfx==0.28.0"
      ],
      "execution_count": 1,
      "outputs": []
    },
    {
      "cell_type": "code",
      "metadata": {
        "id": "EPHrWg64Nqed"
      },
      "source": [
        "import os\n",
        "import pprint\n",
        "import numpy as np\n",
        "import tempfile\n",
        "import urllib\n",
        "\n",
        "import absl\n",
        "import pandas as pd\n",
        "import tensorflow as tf\n",
        "import tensorflow_model_analysis as tfma\n",
        "tf.get_logger().propagate=False\n",
        "pp = pprint.PrettyPrinter()\n",
        "\n",
        "import tfx\n",
        "from tfx.components import CsvExampleGen\n",
        "from typing import Dict, List, Text\n",
        "from tfx.components import Evaluator\n",
        "from tfx.components import ExampleValidator\n",
        "from tfx.components import Pusher\n",
        "from tfx.components import ResolverNode\n",
        "from tfx.components import SchemaGen\n",
        "from tfx.components import StatisticsGen\n",
        "from tfx.components import Trainer\n",
        "from tfx.components import Transform\n",
        "from tfx.components.base import executor_spec\n",
        "from tfx.components.trainer.executor import GenericExecutor\n",
        "from tfx.dsl.experimental import latest_blessed_model_resolver\n",
        "from tfx.orchestration import metadata\n",
        "from tfx.orchestration import pipeline\n",
        "from tfx.orchestration.experimental.interactive.interactive_context import InteractiveContext\n",
        "from tfx.proto import pusher_pb2\n",
        "from tfx.proto import trainer_pb2\n",
        "from tfx.types import Channel\n",
        "from tfx.types.standard_artifacts import Model\n",
        "from tfx.types.standard_artifacts import ModelBlessing\n",
        "from tfx.utils.dsl_utils import external_input\n",
        "\n",
        "\n",
        "import seaborn as sns\n",
        "import matplotlib.pyplot as plt\n",
        "\n",
        "\n",
        "%load_ext tfx.orchestration.experimental.interactive.notebook_extensions.skip\n",
        "%matplotlib inline"
      ],
      "execution_count": null,
      "outputs": []
    },
    {
      "cell_type": "code",
      "metadata": {
        "id": "Zs5TD8bAIlAv"
      },
      "source": [
        "def ensure_dir(directory: str):\n",
        "    if (len(directory) > 0 and not os.path.exists(directory)):\n",
        "        os.makedirs(directory)"
      ],
      "execution_count": 6,
      "outputs": []
    },
    {
      "cell_type": "code",
      "metadata": {
        "id": "ZRc4HwSSOq5x"
      },
      "source": [
        "tfx_path = \"/content/tfx\"\n",
        "ensure_dir(tfx_path)\n",
        "pipeline_path = os.path.join(tfx_path, \"pipelines\")\n",
        "ensure_dir(pipeline_path)\n",
        "metadata_path = os.path.join(tfx_path, \"metadata\")\n",
        "ensure_dir(metadata_path)\n",
        "logs_path = os.path.join(tfx_path, \"logs\")\n",
        "ensure_dir(logs_path)\n",
        "data_path = os.path.join(tfx_path, \"data\")\n",
        "ensure_dir(data_path)\n",
        "serving_model_path = os.path.join(tfx_path, \"serving_model\")\n",
        "ensure_dir(serving_model_path)"
      ],
      "execution_count": 7,
      "outputs": []
    },
    {
      "cell_type": "markdown",
      "metadata": {
        "id": "kzWxIFX9c0_-"
      },
      "source": [
        "## Download & Get Taxi Trip Dataset"
      ]
    },
    {
      "cell_type": "code",
      "metadata": {
        "id": "1AGLvFNqdMTh"
      },
      "source": [
        "data_path = \"/content/data.csv\""
      ],
      "execution_count": 9,
      "outputs": []
    },
    {
      "cell_type": "code",
      "metadata": {
        "id": "RTS5Y4_rTBh3"
      },
      "source": [
        "!wget https://raw.githubusercontent.com/tensorflow/tfx/master/tfx/examples/chicago_taxi_pipeline/data/simple/data.csv -q"
      ],
      "execution_count": 8,
      "outputs": []
    },
    {
      "cell_type": "code",
      "metadata": {
        "colab": {
          "base_uri": "https://localhost:8080/",
          "height": 428
        },
        "id": "Ty4aoAOqdGWa",
        "outputId": "6992736c-6aa6-4b52-c755-bf92a93bd901"
      },
      "source": [
        "df = pd.read_csv(data_path)\n",
        "\n",
        "df.head()"
      ],
      "execution_count": 10,
      "outputs": [
        {
          "output_type": "execute_result",
          "data": {
            "text/html": [
              "<div>\n",
              "<style scoped>\n",
              "    .dataframe tbody tr th:only-of-type {\n",
              "        vertical-align: middle;\n",
              "    }\n",
              "\n",
              "    .dataframe tbody tr th {\n",
              "        vertical-align: top;\n",
              "    }\n",
              "\n",
              "    .dataframe thead th {\n",
              "        text-align: right;\n",
              "    }\n",
              "</style>\n",
              "<table border=\"1\" class=\"dataframe\">\n",
              "  <thead>\n",
              "    <tr style=\"text-align: right;\">\n",
              "      <th></th>\n",
              "      <th>pickup_community_area</th>\n",
              "      <th>fare</th>\n",
              "      <th>trip_start_month</th>\n",
              "      <th>trip_start_hour</th>\n",
              "      <th>trip_start_day</th>\n",
              "      <th>trip_start_timestamp</th>\n",
              "      <th>pickup_latitude</th>\n",
              "      <th>pickup_longitude</th>\n",
              "      <th>dropoff_latitude</th>\n",
              "      <th>dropoff_longitude</th>\n",
              "      <th>trip_miles</th>\n",
              "      <th>pickup_census_tract</th>\n",
              "      <th>dropoff_census_tract</th>\n",
              "      <th>payment_type</th>\n",
              "      <th>company</th>\n",
              "      <th>trip_seconds</th>\n",
              "      <th>dropoff_community_area</th>\n",
              "      <th>tips</th>\n",
              "    </tr>\n",
              "  </thead>\n",
              "  <tbody>\n",
              "    <tr>\n",
              "      <th>0</th>\n",
              "      <td>NaN</td>\n",
              "      <td>12.45</td>\n",
              "      <td>5</td>\n",
              "      <td>19</td>\n",
              "      <td>6</td>\n",
              "      <td>1400269500</td>\n",
              "      <td>NaN</td>\n",
              "      <td>NaN</td>\n",
              "      <td>NaN</td>\n",
              "      <td>NaN</td>\n",
              "      <td>0.0</td>\n",
              "      <td>NaN</td>\n",
              "      <td>NaN</td>\n",
              "      <td>Credit Card</td>\n",
              "      <td>Chicago Elite Cab Corp. (Chicago Carriag</td>\n",
              "      <td>0.0</td>\n",
              "      <td>NaN</td>\n",
              "      <td>0.0</td>\n",
              "    </tr>\n",
              "    <tr>\n",
              "      <th>1</th>\n",
              "      <td>NaN</td>\n",
              "      <td>0.00</td>\n",
              "      <td>3</td>\n",
              "      <td>19</td>\n",
              "      <td>5</td>\n",
              "      <td>1362683700</td>\n",
              "      <td>NaN</td>\n",
              "      <td>NaN</td>\n",
              "      <td>NaN</td>\n",
              "      <td>NaN</td>\n",
              "      <td>0.0</td>\n",
              "      <td>NaN</td>\n",
              "      <td>NaN</td>\n",
              "      <td>Unknown</td>\n",
              "      <td>Chicago Elite Cab Corp.</td>\n",
              "      <td>300.0</td>\n",
              "      <td>NaN</td>\n",
              "      <td>0.0</td>\n",
              "    </tr>\n",
              "    <tr>\n",
              "      <th>2</th>\n",
              "      <td>60.0</td>\n",
              "      <td>27.05</td>\n",
              "      <td>10</td>\n",
              "      <td>2</td>\n",
              "      <td>3</td>\n",
              "      <td>1380593700</td>\n",
              "      <td>41.836150</td>\n",
              "      <td>-87.648788</td>\n",
              "      <td>NaN</td>\n",
              "      <td>NaN</td>\n",
              "      <td>12.6</td>\n",
              "      <td>NaN</td>\n",
              "      <td>NaN</td>\n",
              "      <td>Cash</td>\n",
              "      <td>Taxi Affiliation Services</td>\n",
              "      <td>1380.0</td>\n",
              "      <td>NaN</td>\n",
              "      <td>0.0</td>\n",
              "    </tr>\n",
              "    <tr>\n",
              "      <th>3</th>\n",
              "      <td>10.0</td>\n",
              "      <td>5.85</td>\n",
              "      <td>10</td>\n",
              "      <td>1</td>\n",
              "      <td>2</td>\n",
              "      <td>1382319000</td>\n",
              "      <td>41.985015</td>\n",
              "      <td>-87.804532</td>\n",
              "      <td>NaN</td>\n",
              "      <td>NaN</td>\n",
              "      <td>0.0</td>\n",
              "      <td>NaN</td>\n",
              "      <td>NaN</td>\n",
              "      <td>Cash</td>\n",
              "      <td>Taxi Affiliation Services</td>\n",
              "      <td>180.0</td>\n",
              "      <td>NaN</td>\n",
              "      <td>0.0</td>\n",
              "    </tr>\n",
              "    <tr>\n",
              "      <th>4</th>\n",
              "      <td>14.0</td>\n",
              "      <td>16.65</td>\n",
              "      <td>5</td>\n",
              "      <td>7</td>\n",
              "      <td>5</td>\n",
              "      <td>1369897200</td>\n",
              "      <td>41.968069</td>\n",
              "      <td>-87.721559</td>\n",
              "      <td>NaN</td>\n",
              "      <td>NaN</td>\n",
              "      <td>0.0</td>\n",
              "      <td>NaN</td>\n",
              "      <td>NaN</td>\n",
              "      <td>Cash</td>\n",
              "      <td>Dispatch Taxi Affiliation</td>\n",
              "      <td>1080.0</td>\n",
              "      <td>NaN</td>\n",
              "      <td>0.0</td>\n",
              "    </tr>\n",
              "  </tbody>\n",
              "</table>\n",
              "</div>"
            ],
            "text/plain": [
              "   pickup_community_area   fare  ...  dropoff_community_area  tips\n",
              "0                    NaN  12.45  ...                     NaN   0.0\n",
              "1                    NaN   0.00  ...                     NaN   0.0\n",
              "2                   60.0  27.05  ...                     NaN   0.0\n",
              "3                   10.0   5.85  ...                     NaN   0.0\n",
              "4                   14.0  16.65  ...                     NaN   0.0\n",
              "\n",
              "[5 rows x 18 columns]"
            ]
          },
          "metadata": {},
          "execution_count": 10
        }
      ]
    },
    {
      "cell_type": "markdown",
      "metadata": {
        "id": "usZ0_d2kjrih"
      },
      "source": [
        "## Data Wrabling"
      ]
    },
    {
      "cell_type": "code",
      "metadata": {
        "colab": {
          "base_uri": "https://localhost:8080/",
          "height": 275
        },
        "id": "54hECSBqj2ge",
        "outputId": "33cc53f7-88a5-4139-c752-320e7109806b"
      },
      "source": [
        "sns.heatmap(df.isnull().T, xticklabels=False, cmap=\"viridis\")"
      ],
      "execution_count": 23,
      "outputs": [
        {
          "output_type": "execute_result",
          "data": {
            "text/plain": [
              "<matplotlib.axes._subplots.AxesSubplot at 0x7fe567489510>"
            ]
          },
          "metadata": {},
          "execution_count": 23
        },
        {
          "output_type": "display_data",
          "data": {
            "image/png": "[encoded data removed]",
            "text/plain": [
              "<Figure size 432x288 with 2 Axes>"
            ]
          },
          "metadata": {
            "needs_background": "light"
          }
        }
      ]
    },
    {
      "cell_type": "code",
      "metadata": {
        "colab": {
          "base_uri": "https://localhost:8080/"
        },
        "id": "8yeZWGyOkCtK",
        "outputId": "d6c8182d-71f7-4e26-c1fb-6d0b3a047cd5"
      },
      "source": [
        "df.isnull().sum()"
      ],
      "execution_count": 24,
      "outputs": [
        {
          "output_type": "execute_result",
          "data": {
            "text/plain": [
              "pickup_community_area         2\n",
              "fare                          0\n",
              "trip_start_month              0\n",
              "trip_start_hour               0\n",
              "trip_start_day                0\n",
              "trip_start_timestamp          0\n",
              "pickup_latitude               2\n",
              "pickup_longitude              2\n",
              "dropoff_latitude            483\n",
              "dropoff_longitude           483\n",
              "trip_miles                    0\n",
              "pickup_census_tract       15001\n",
              "dropoff_census_tract       4241\n",
              "payment_type                  0\n",
              "company                    5140\n",
              "trip_seconds                  6\n",
              "dropoff_community_area      507\n",
              "tips                          0\n",
              "dtype: int64"
            ]
          },
          "metadata": {},
          "execution_count": 24
        }
      ]
    },
    {
      "cell_type": "code",
      "metadata": {
        "id": "jdlgsH3Jk7RU"
      },
      "source": [
        "df = df.drop([\"trip_start_timestamp\", \"trip_miles\", \"pickup_census_tract\",\n",
        "              \"dropoff_census_tract\", \"trip_seconds\", \"payment_type\",\n",
        "              \"tips\", \"company\", \"dropoff_community_area\", \"pickup_community_area\"], axis=1)\n",
        "\n",
        "df = df.dropna()"
      ],
      "execution_count": 26,
      "outputs": []
    },
    {
      "cell_type": "code",
      "metadata": {
        "id": "ShlEnT8aliQA"
      },
      "source": [
        ""
      ],
      "execution_count": null,
      "outputs": []
    }
  ]
}